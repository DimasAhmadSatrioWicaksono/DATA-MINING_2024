{
 "cells": [
  {
   "cell_type": "code",
   "execution_count": 3,
   "metadata": {},
   "outputs": [
    {
     "name": "stdout",
     "output_type": "stream",
     "text": [
      "                                            nama_produk  harga_produk rating  \\\n",
      "0     MacBook Air 13\" 2017 Core i5 1.8GHz Memory 8GB...   Rp2.550.000    5.0   \n",
      "5     Apple Macbook Air M2 2022 13,6 inch - Garansi ...  Rp14.450.000    5.0   \n",
      "6     Apple Macbook Air M3 13\" inch 2024 - Garansi R...  Rp16.899.000    5.0   \n",
      "7     Apple Macbook Air M1 256 GB/13\"/8GB - Garansi ...  Rp11.189.000    5.0   \n",
      "9     IBOX APPLE MACBOOK AIR 13 M2 Chip 8C CPU 8GB 5...  Rp11.149.000    5.0   \n",
      "...                                                 ...           ...    ...   \n",
      "1603  APPLE MACBOOK AIR MLXY3ID 13 M2 8C CPU 8GB 256...  Rp14.499.000    4.8   \n",
      "1604  Apple Macbook Air M3 Chip 2024 13\" 256/512GB R...  Rp17.724.000    5.0   \n",
      "1609  Apple MacBook Air M3 13.6 Inch 16GB 512GB MXCV...  Rp24.877.000    5.0   \n",
      "1612  LAPTOP ADVAN SOULMATE PLUS RYZEN 5 3500U 8GB 2...   Rp3.999.000    5.0   \n",
      "1614  Macbook Pro 2019 16\" inch / intel i9 / RAM 64G...  Rp11.000.000    4.6   \n",
      "\n",
      "           terjual  \n",
      "0      70+ terjual  \n",
      "5     500+ terjual  \n",
      "6     100+ terjual  \n",
      "7     2rb+ terjual  \n",
      "9     100+ terjual  \n",
      "...            ...  \n",
      "1603   50+ terjual  \n",
      "1604    28 terjual  \n",
      "1609   40+ terjual  \n",
      "1612   40+ terjual  \n",
      "1614    10 terjual  \n",
      "\n",
      "[514 rows x 4 columns]\n"
     ]
    }
   ],
   "source": [
    "import time\n",
    "import pandas as pd\n",
    "from selenium import webdriver\n",
    "from bs4 import BeautifulSoup\n",
    "\n",
    "url = 'https://www.tokopedia.com/search?st=&q=macbook&srp_component_id=02.01.00.00&srp_page_id=&srp_page_title=&navsource='\n",
    "\n",
    "# Inisialisasi webdriver\n",
    "driver = webdriver.Chrome() \n",
    "driver.get(url)\n",
    "\n",
    "# Memproses konten halaman\n",
    "data = []\n",
    "for i in range(19):  # Mengulangi scroll sebanyak 19 kali dan mengambil data\n",
    "    soup = BeautifulSoup(driver.page_source, \"html.parser\")\n",
    "    \n",
    "    # Ambil elemen css \n",
    "    for item in soup.findAll('div', class_='css-5wh65g'):\n",
    "        nama_produk = item.find('div', class_='VKNwBTYQmj8+cxNrCQBD6g==')\n",
    "        harga_produk = item.find('div', class_='_8cR53N0JqdRc+mQCckhS0g== Phc0SDQ0Yjt43vf3XuwYOg==')\n",
    "        rating = item.find('span', class_='nBBbPk9MrELbIUbobepKbQ==')\n",
    "        terjual = item.find('span', class_='eLOomHl6J3IWAcdRU8M08A==')\n",
    "\n",
    "        # Menyimpan data jika elemen ada\n",
    "        data.append(\n",
    "            (\n",
    "                nama_produk.get_text(strip=True) if nama_produk else None,\n",
    "                harga_produk.get_text(strip=True) if harga_produk else None,\n",
    "                rating.get_text(strip=True) if rating else None,\n",
    "                terjual.get_text(strip=True) if terjual else None\n",
    "            )\n",
    "        )\n",
    "    \n",
    "    # Scroll ke bawah untuk memuat lebih banyak data\n",
    "    driver.execute_script('window.scrollBy(0, 250)')\n",
    "    time.sleep(1)\n",
    "\n",
    "# Close browser yang sudah dibuka\n",
    "driver.close()\n",
    "\n",
    "# DataFrame + membersihkan data\n",
    "df = pd.DataFrame(data, columns=[\"nama_produk\", \"harga_produk\", \"rating\", \"terjual\"])\n",
    "all_data = df.dropna(how='any')  # Menghapus baris dengan nilai NaN\n",
    "print(all_data)\n"
   ]
  }
 ],
 "metadata": {
  "kernelspec": {
   "display_name": "Python 3",
   "language": "python",
   "name": "python3"
  },
  "language_info": {
   "codemirror_mode": {
    "name": "ipython",
    "version": 3
   },
   "file_extension": ".py",
   "mimetype": "text/x-python",
   "name": "python",
   "nbconvert_exporter": "python",
   "pygments_lexer": "ipython3",
   "version": "3.11.9"
  }
 },
 "nbformat": 4,
 "nbformat_minor": 2
}
